{
  "nbformat": 4,
  "nbformat_minor": 0,
  "metadata": {
    "colab": {
      "private_outputs": true,
      "provenance": [],
      "toc_visible": true
    },
    "kernelspec": {
      "name": "python3",
      "display_name": "Python 3"
    },
    "language_info": {
      "name": "python"
    }
  },
  "cells": [
    {
      "cell_type": "markdown",
      "source": [
        "# Définition mathématique des images\n",
        "\n",
        "Une image numérique peut être vue comme une fonction mathématique qui attribue une valeur à chaque point d'un espace bidimensionnel. De manière générale, une image peut être représentée par une fonction :\n",
        "\n",
        "$$f : Z² → Rᵈ$$\n",
        "\n",
        "où :\n",
        "\n",
        "* $Z²$ représente l'ensemble des coordonnées entières des pixels de l'image.\n",
        "* $Rᵈ$ représente l'ensemble des valeurs possibles pour chaque pixel, avec $d$ la dimension de l'espace des couleurs.\n",
        "\n",
        "## Exemples\n",
        "\n",
        "### d = 1 : Images en niveaux de gris\n",
        "\n",
        "Une image en niveaux de gris est une fonction $f(x,y)$ qui associe à chaque pixel $(x,y)$ une intensité entre 0 (noir) et 255 (blanc) pour une image codée sur 8 bits.\n",
        "\n",
        "$$f : Z² → [0,255]$$\n",
        "\n",
        "### d = 3 : Images couleur (RGB)\n",
        "\n",
        "Une image couleur (RGB) est représentée par trois matrices (canaux rouge, vert, bleu).\n",
        "\n",
        "$$f : Z² → ([0,255],[0,255],[0,255])$$\n",
        "\n",
        "### d = 4 : Images avec intensité (RGBA)\n",
        "\n",
        "Une image avec intensité (RGBA) est représentée par quatre matrices (canaux rouge, vert, bleu, alpha). Le canal alpha représente l'opacité du pixel.\n",
        "\n",
        "$$f : Z² → ([0,255],[0,255],[0,255],[0,1])$$"
      ],
      "metadata": {
        "id": "wgWJLpEhsf0p"
      }
    },
    {
      "cell_type": "markdown",
      "source": [],
      "metadata": {
        "id": "DEqrRx1etuOQ"
      }
    },
    {
      "cell_type": "markdown",
      "source": [
        "# Télécharger et lire les images"
      ],
      "metadata": {
        "id": "KqicHYmllSig"
      }
    },
    {
      "cell_type": "code",
      "execution_count": null,
      "metadata": {
        "id": "iIIRny9-UbA1"
      },
      "outputs": [],
      "source": [
        "#@title Importation des bibliothèques\n",
        "\n",
        "import cv2 # Open_cv\n",
        "import urllib.request # Pour traiter les URLs\n",
        "import os # Operation system"
      ]
    },
    {
      "cell_type": "code",
      "source": [
        "# @title Télécharger  l'image\n",
        "image_url = 'https://img.freepik.com/premium-photo/cute-kittens-color-rainbow-animal-canvas-painting-wallpaper-image-ai-generated-art-03_843679-4459.jpg' # lien d'une photo d'apres le web\n",
        "filename = \"Dowlnoad_image2.ipg\" # Meme Extention de téléchargement !! (jpg dans ce cas)\n",
        "\n",
        "urllib.request.urlretrieve(image_url, filename) # Télécharger l'image et stocker dans une fichier s'appele filename\n",
        "image = cv2.imread(filename) # Lecture d'image\n",
        "\n",
        "if image is None :\n",
        "  print(\"Erreur : impossible de charger l'image\")\n",
        "else :\n",
        "  print(\"Image chargée avec succès\")\n",
        "\n",
        "# OpenCV : Créer une ecran pour l'affichage , ou bien sur le notebook luis meme !!\n",
        "# OpenCV : meme command d'ouvrir n'import quelle format"
      ],
      "metadata": {
        "id": "i5BLJlG1VB7C"
      },
      "execution_count": null,
      "outputs": []
    },
    {
      "cell_type": "code",
      "source": [
        "# @title Ouvrir l'image avec OpenCV dans une fenetre OpenCV\n",
        "from google.colab.patches import cv2_imshow\n",
        "if image is not None :\n",
        "  cv2_imshow(image)\n",
        "  cv2.waitKey(0) # Attendre une touche pour fermer\n",
        "  cv2.destroyAllWindows() # fermer la fenetre\n",
        "else :\n",
        "  print(\"Impossible d'afficheer l'image avec OpenCV\")\n",
        "\n",
        "# Les Modes d'affichage : OpenCV -> BGR , matplotlib -> RGB"
      ],
      "metadata": {
        "id": "dDWhbczvX4ea"
      },
      "execution_count": null,
      "outputs": []
    },
    {
      "cell_type": "code",
      "source": [
        "# @title Affichage de l'image par Matplotlib\n",
        "import matplotlib.pyplot as plt\n",
        "import cv2\n",
        "\n",
        "if image is not None :\n",
        "  image_rgb = cv2.cvtColor(image , cv2.COLOR_BGR2RGB) # Conertion de l'image de BGR vers RGB (COLOR_BGR2RGB)\n",
        "\n",
        "  plt.figure(figsize=(6,6))\n",
        "  plt.imshow(image_rgb)\n",
        "  plt.title(\"Image charger  depuis url\")\n",
        "  plt.axis('off')\n",
        "  plt.show()\n",
        "\n",
        "  plt.figure(figsize=(6,6))\n",
        "  plt.imshow(image)\n",
        "  plt.title(\"Image charger depuis url sans convertition à RGB\") # On doit convertir car matplotlib besoin de RGB , sinon matplotlib affiche en BGR\n",
        "  plt.axis('off')\n",
        "\n"
      ],
      "metadata": {
        "id": "ZDBdDTGKadhA"
      },
      "execution_count": null,
      "outputs": []
    },
    {
      "cell_type": "code",
      "source": [
        "!pip install Ipython"
      ],
      "metadata": {
        "id": "LPJXGoIycuzI"
      },
      "execution_count": null,
      "outputs": []
    },
    {
      "cell_type": "code",
      "source": [
        "# @title Par PIL\n",
        "from PIL import Image\n",
        "\n",
        "image_pil = Image.open(\"Dowlnoad_image2.ipg\")\n",
        "display(image_pil)"
      ],
      "metadata": {
        "id": "bgll4cfTdl3g"
      },
      "execution_count": null,
      "outputs": []
    },
    {
      "cell_type": "code",
      "source": [
        "# @title Charcger une image local\n",
        "import cv2\n",
        "import os\n",
        "\n",
        "image_path = r'/content/Dowlnoad_image2.ipg' # Chemin vers l'image\n",
        "\n",
        "if not os.path.exists(image_path) : # Si l'image n'exicte pas (not os.path.exists)\n",
        "  print(\"Erreur : fichier introuvable , verifier le chemin\")\n",
        "else :\n",
        "   cv2_imshow(image)\n",
        "   cv2.waitKey(0)\n",
        "   cv2.destroyAllWindows()\n",
        "\n",
        "# De la meme fancon affiche avec opencv et les autres bibliothèques"
      ],
      "metadata": {
        "id": "Bh_exubueBXh"
      },
      "execution_count": null,
      "outputs": []
    },
    {
      "cell_type": "markdown",
      "source": [
        "# Manipulations simple des images avec OpenCV"
      ],
      "metadata": {
        "id": "QzL388aWnNGQ"
      }
    },
    {
      "cell_type": "markdown",
      "source": [
        "**Manipulations simples des images avec OpenCV :**\n",
        "\n",
        "1️⃣ Modification de Pixel pour une Image RGB\n",
        "\n",
        "💡 Idée : Modifier la valeur d'un pixel spécifique dans une image RGB, qui contient trois canaux (Rouge, Vert, Bleu).\n",
        "\n",
        "**Formulation mathématique :**\n",
        "\n",
        "Soit une image couleur $I(x,y)$ avec trois composantes :\n",
        "\n",
        "$$I(x,y) = (R(x,y), G(x,y), B(x,y))$$\n",
        "\n",
        "Pour modifier la valeur d'un pixel $(x,y)$ :\n",
        "\n",
        "$$I'(x,y) = (R', G', B')$$\n",
        "\n",
        "où $R', G', B'$ sont les nouvelles valeurs pour les canaux Rouge, Vert et Bleu.\n",
        "\n",
        "\n",
        " 2️⃣ Modification d'une Région dans une Image RGB\n",
        "\n",
        "💡 Idée : Modifier une région rectangulaire en appliquant une transformation sur les trois canaux.\n",
        "\n",
        "**Formulation mathématique :**\n",
        "\n",
        "Soit une région $R(x_1, y_1, x_2, y_2)$, on applique une transformation $T$ :\n",
        "\n",
        "$$I'(x,y) = T(R(x,y), G(x,y), B(x,y)), \\forall (x,y) \\in R$$\n",
        "\n",
        "où $T$ peut être une modification d’intensité, un flou, un filtrage, etc.\n",
        "\n",
        "\n",
        "3️⃣ Image Inverse (Négatif) pour une Image RGB\n",
        "\n",
        "💡 Idée : Inverser les couleurs d’une image.\n",
        "\n",
        "**Formulation mathématique :**\n",
        "\n",
        "$$I'(x,y) = (255 - R(x,y), 255 - G(x,y), 255 - B(x,y))$$\n",
        "\n",
        "Cela inverse chaque canal individuellement."
      ],
      "metadata": {
        "id": "ZzcEHrJ6uR30"
      }
    },
    {
      "cell_type": "code",
      "source": [
        "image_url = 'https://img.freepik.com/premium-photo/cute-kittens-color-rainbow-animal-canvas-painting-wallpaper-image-ai-generated-art-03_843679-4459.jpg' # D'apres le web\n",
        "filename = \"Dowlnoad_image2.ipg\"\n",
        "urllib.request.urlretrieve(image_url, filename)\n",
        "image = cv2.imread(filename)\n",
        "\n",
        "if image is None :\n",
        "  print(\"Erreur : impossible de charger l'image\")\n",
        "else :\n",
        "  print(\"Image chargée avec succès\")\n",
        "\n",
        "image_neg = cv2.bitwise_not(image) # Image inverse (si on mette 255-image on va obtenir le meme résultat)\n",
        "\n",
        "image_mod_pixel = image.copy()\n",
        "image_mod_pixel[50 , 50] = [255 , 255 , 255] # Modifier le pixel de cordonné (50,50) en blanc R = G = B = 255\n",
        "\n",
        "image_mod_roi = image.copy()\n",
        "image_mod_roi[100:200 , 100:200] = [0 , 255 , 0] # Modefication de la region des pixels de 100 vers 200 en Red (R = B = 0)\n",
        "\n",
        "fig , axs = plt.subplots(1 , 4 , figsize = (16 , 5))\n",
        "\n",
        "axs[0].imshow(cv2.cvtColor(image , cv2.COLOR_BGR2RGB))\n",
        "axs[0].set_title('Image originale')\n",
        "axs[0].axis('off')\n",
        "\n",
        "axs[1].imshow(cv2.cvtColor(image_mod_pixel , cv2.COLOR_BGR2RGB))\n",
        "axs[1].annotate('', xy=(50, 50), xytext=(50 - 20, 50 - 20),arrowprops=dict(facecolor='red', arrowstyle='->', linewidth=3 , color = 'red')) # Ajoute une flèche vers le pixel modifier (pixel en blanc)\n",
        "axs[1].set_title('Modification de pixel')\n",
        "axs[1].axis('off')\n",
        "\n",
        "\n",
        "axs[2].imshow(cv2.cvtColor(image_mod_roi, cv2.COLOR_BGR2RGB))\n",
        "axs[2].set_title(\"Changement d'une region\")\n",
        "axs[2].axis('off')\n",
        "\n",
        "axs[3].imshow(cv2.cvtColor(image_neg , cv2.COLOR_BGR2RGB))\n",
        "axs[3].set_title('Image inverse')\n",
        "axs[3].axis('off')\n",
        "\n"
      ],
      "metadata": {
        "id": "WBfPdD5Tnddg"
      },
      "execution_count": null,
      "outputs": []
    },
    {
      "cell_type": "markdown",
      "source": [
        "#Cropping et Resizing  "
      ],
      "metadata": {
        "id": "P2uh7x1HsYVH"
      }
    },
    {
      "cell_type": "markdown",
      "source": [
        " 1️⃣ Recadrage (Cropping)\n",
        "\n",
        "💡 Idée : Sélectionner une sous-partie d'une image et ignorer le reste. Cela permet d’extraire une région d’intérêt.\n",
        "\n",
        "**Formulation mathématique :**\n",
        "\n",
        "Si l’image originale est définie par $I(x,y)$ de taille $H \\times W$, on définit une nouvelle image $I'(x,y)$ correspondant à une sous-région $R(x_1, y_1, x_2, y_2)$ :\n",
        "\n",
        "$$I'(x,y) = I(x,y), \\forall x_1 \\le x \\le x_2, y_1 \\le y \\le y_2$$\n",
        "\n",
        "où $(x_1, y_1)$ est le coin supérieur gauche et $(x_2, y_2)$ est le coin inférieur droit de la région sélectionnée.\n",
        "\n",
        "2️⃣ Redimensionnement (Resizing)\n",
        "\n",
        "💡 Idée : Modifier la taille d’une image tout en conservant (ou non) ses proportions.\n",
        "\n",
        "a) Redimensionnement par interpolation bilinéaire\n",
        "\n",
        "L’image originale $I(x,y)$ de taille $H \\times W$ est redimensionnée à $H' \\times W'$. Les nouveaux pixels sont calculés par interpolation entre les pixels existants.\n",
        "\n",
        "**Formulation mathématique :**\n",
        "\n",
        "Soit $(x', y')$ la nouvelle position d’un pixel après redimensionnement :\n",
        "\n",
        "$$x' = x \\cdot \\frac{W'}{W}, \\quad y' = y \\cdot \\frac{H'}{H}$$\n",
        "\n",
        "La valeur du pixel est obtenue par interpolation bilinéaire :\n",
        "\n",
        "$$I'(x', y') = (1 - d_x)(1 - d_y)I(x_1, y_1) + d_x(1 - d_y)I(x_2, y_1) + (1 - d_x)d_yI(x_1, y_2) + d_xd_yI(x_2, y_2)$$\n",
        "\n",
        "où :\n",
        "\n",
        "* $x_1 = \\lfloor x \\rfloor$, $x_2 = \\lceil x \\rceil$\n",
        "* $y_1 = \\lfloor y \\rfloor$, $y_2 = \\lceil y \\rceil$\n",
        "* $d_x = x - x_1$, $d_y = y - y_1$\n",
        "\n",
        "\n",
        "b) Redimensionnement par sous-échantillonnage (Downsampling)\n",
        "\n",
        "Si l’image est réduite sans interpolation, on prend un sous-ensemble de pixels :\n",
        "\n",
        "$$I'(x', y') = I(x \\cdot s_x, y \\cdot s_y)$$\n",
        "\n",
        "où $s_x = \\frac{W}{W'}$ et $s_y = \\frac{H}{H'}$ sont les facteurs de réduction.\n",
        "\n",
        "\n",
        "c) Redimensionnement par sur-échantillonnage (Upsampling)\n",
        "\n",
        "On ajoute de nouveaux pixels en interpolant entre les pixels existants selon la méthode de l’interpolation bilinéaire ou bicubique.\n"
      ],
      "metadata": {
        "id": "p6UcTXTywUO3"
      }
    },
    {
      "cell_type": "code",
      "source": [
        "# @title Cropping basique\n",
        "x1 , y1 , x2 , y2 = 50 , 50 , 250 , 250\n",
        "\n",
        "image_crop = image_rgb[y1:y2 , x1:x2]\n",
        "plt.figure(figsize=(6,6))\n",
        "plt.imshow(image_crop)\n",
        "plt.axis('off')\n",
        "plt.show()\n"
      ],
      "metadata": {
        "id": "IrEeIMsxsnAP"
      },
      "execution_count": null,
      "outputs": []
    },
    {
      "cell_type": "markdown",
      "source": [
        "le Cropping Basic donne une mauvaise qualité !!"
      ],
      "metadata": {
        "id": "eZ4xkoPExtod"
      }
    },
    {
      "cell_type": "code",
      "source": [
        "# @title Exercice : Amélioration de cropping\n",
        "# On va utiliser cv2 !!\n",
        "x1, y1, x2, y2 = 50, 50, 250, 250\n",
        "image_crop = image[y1:y2, x1:x2]\n",
        "\n",
        "image_augmented = cv2.copyMakeBorder(image_crop, 10, 10, 10, 10, cv2.BORDER_REPLICATE)\n",
        "\n",
        "cv2_imshow(image_augmented)\n",
        "cv2.waitKey(0)\n",
        "cv2.destroyAllWindows()"
      ],
      "metadata": {
        "id": "KMIWEl9-x3LA"
      },
      "execution_count": null,
      "outputs": []
    },
    {
      "cell_type": "code",
      "source": [
        "# @title Exercice : Cropping au centre d'image\n",
        "# Dimensions\n",
        "h, w, _ = image.shape # _ : 3\n",
        "\n",
        "# crop size (100*100)\n",
        "crop_size = 200\n",
        "x1 = (w - crop_size) // 2\n",
        "y1 = (h - crop_size) // 2\n",
        "x2 = x1 + crop_size\n",
        "y2 = y1 + crop_size\n",
        "\n",
        "image_with_rect = image_rgb.copy()\n",
        "cv2.rectangle(image_with_rect, (x1, y1), (x2, y2), (255, 0, 0), 3)  #  rectangle en rouge (BGR -> (255,0,0))\n",
        "\n",
        "image_crop = image_rgb[y1:y2, x1:x2] # L'image Recadrer\n",
        "\n",
        "# Image Originale avec rectangle\n",
        "plt.figure(figsize=(12, 6))\n",
        "plt.subplot(1, 2, 1)\n",
        "plt.imshow(image_with_rect)\n",
        "plt.axis('off')\n",
        "plt.title(\" Image Original\")\n",
        "\n",
        "# Image Recadrer\n",
        "plt.subplot(1, 2, 2)\n",
        "plt.imshow(image_crop)\n",
        "plt.axis('off')\n",
        "plt.title(\"Image Recadrer\")\n",
        "\n",
        "plt.show()"
      ],
      "metadata": {
        "id": "VP3nVRD2y7-4"
      },
      "execution_count": null,
      "outputs": []
    },
    {
      "cell_type": "code",
      "source": [
        "# @title Resizing\n",
        "size = (120, 120)  # Nouvelle taille (largeur, hauteur)\n",
        "\n",
        "resized_nearest = cv2.resize(image_rgb, size, interpolation=cv2.INTER_NEAREST)  # Sous-échantillonnage (Downsampling)\n",
        "resized_bilinear = cv2.resize(image_rgb, size, interpolation=cv2.INTER_LINEAR)  # Interpolation bilinéaire\n",
        "resized_bicubic = cv2.resize(image_rgb, size, interpolation=cv2.INTER_CUBIC)  # Sur-échantillonnage (Upsampling)\n",
        "\n",
        "\n",
        "# 🔹 Affichage des résultats\n",
        "titles = [\"Original\", \"Sous-échantillonnage\", \"Interpolation bilinéaire\", \"Sur-échantillonnage\"]\n",
        "images = [image_rgb, resized_nearest, resized_bilinear, resized_bicubic]\n",
        "\n",
        "plt.figure(figsize=(10, 6))\n",
        "for i, (img, title) in enumerate(zip(images, titles)):\n",
        "    plt.subplot(2, 3, i + 1)\n",
        "    plt.imshow(img)\n",
        "    plt.title(title)\n",
        "    plt.axis(\"off\")\n",
        "\n",
        "plt.tight_layout()\n",
        "plt.show()\n"
      ],
      "metadata": {
        "id": "TtmVb2rW17rw"
      },
      "execution_count": null,
      "outputs": []
    },
    {
      "cell_type": "markdown",
      "source": [
        "# Flip et Rotaion"
      ],
      "metadata": {
        "id": "bQDuD5D0z_gt"
      }
    },
    {
      "cell_type": "markdown",
      "source": [
        "**Retournement et rotation d'images :**\n",
        "\n",
        "1. Retournement (symétrie)\n",
        "\n",
        "**Objectif :** Inverser une image par rapport à un axe horizontal, vertical ou les deux.\n",
        "\n",
        "**Méthodes :**\n",
        "\n",
        "* **Retournement horizontal :** chaque pixel est échangé avec celui situé de l'autre côté de l'axe vertical.\n",
        "  $$I'(x, y) = I(W - x - 1, y)$$\n",
        "\n",
        "* **Retournement vertical :** chaque pixel est échangé avec celui situé de l'autre côté de l'axe horizontal.\n",
        "  $$I'(x, y) = I(x, H - y - 1)$$\n",
        "\n",
        "* **Retournement diagonal (horizontal + vertical) :** l'image est retournée par rapport au centre.\n",
        "  $$I'(x, y) = I(W - x - 1, H - y - 1)$$\n",
        "\n",
        "\n",
        "2. Rotation\n",
        "\n",
        "**Objectif :** faire pivoter une image selon un certain angle θ.\n",
        "\n",
        "**Formulation mathématique :**\n",
        "$$\n",
        "\\begin{cases}\n",
        "x' = (x - x_c)\\cos(\\theta) - (y - y_c)\\sin(\\theta) + x_c \\\\\n",
        "y' = (x - x_c)\\sin(\\theta) + (y - y_c)\\cos(\\theta) + y_c\n",
        "\\end{cases}\n",
        "$$\n",
        "où :\n",
        "\n",
        "* ($x_c$, $y_c$) est le centre de l'image ($x_c$ = W/2, $y_c$ = H/2).\n",
        "* $\\theta$ est l'angle de rotation en radians.\n",
        "\n",
        "**Interpolation :** les nouvelles coordonnées ($x'$, $y'$) peuvent ne pas correspondre à des indices entiers dans la matrice de pixels. Une interpolation bilinéaire est donc utilisée pour estimer les valeurs des nouveaux pixels."
      ],
      "metadata": {
        "id": "O14ifRI-9Xkg"
      }
    },
    {
      "cell_type": "code",
      "source": [
        "height, width, _ = image_rgb.shape\n",
        "\n",
        "# 1 Flip :\n",
        "# Flip horizontal :\n",
        "flip_horizontal = cv2.flip(image_rgb, 1)\n",
        "\n",
        "# Flip vertical :\n",
        "flip_vertical = cv2.flip(image_rgb, 0)\n",
        "\n",
        "# Flip diagonal (horizontal + vertical) :\n",
        "flip_diagonal = cv2.flip(image_rgb, -1)\n",
        "\n",
        "# 2 Rotation :\n",
        "angle = 45 # l'angle de rotation (en degré)\n",
        "\n",
        "# Calculer la matrice de rotation\n",
        "Point_de_rotation = (width // 2, height // 2) # O peut changer le centre de rotation et regarder la différence\n",
        "rotation_matrix = cv2.getRotationMatrix2D(Point_de_rotation, angle, 1.0)  # Centre, angle, échelle\n",
        "\n",
        "# Effectuer la rotation\n",
        "rotated_image = cv2.warpAffine(image_rgb, rotation_matrix, (width, height))\n",
        "\n",
        "# Affichage des images\n",
        "images = [image_rgb, flip_horizontal, flip_vertical, flip_diagonal, rotated_image]\n",
        "titles = [\"Original\", \"Flip Horizontal\", \"Flip Vertical\", \"Flip Diagonal\", f\"Rotaion par {angle}° , en ponit {Point_de_rotation}\"]\n",
        "\n",
        "plt.figure(figsize=(12, 8))\n",
        "for i, (img, title) in enumerate(zip(images, titles)):\n",
        "    plt.subplot(2, 3, i + 1)\n",
        "    plt.imshow(img)\n",
        "    plt.title(title)\n",
        "    plt.axis(\"off\")\n",
        "\n",
        "plt.tight_layout()\n",
        "plt.show()\n"
      ],
      "metadata": {
        "id": "CBB6HeeJ0Hrp"
      },
      "execution_count": null,
      "outputs": []
    },
    {
      "cell_type": "markdown",
      "source": [
        "# Filtres"
      ],
      "metadata": {
        "id": "JS7lciSTeST1"
      }
    },
    {
      "cell_type": "markdown",
      "source": [
        "Concepts Clés :\n",
        "\n",
        "Convolution\n",
        "\n",
        "$$g(x,y) = \\sum_{i=-k}^{k} \\sum_{j=-k}^{k} f(x-i,y-j) \\cdot h(i,j)$$\n",
        "\n",
        "où :\n",
        "\n",
        "* $f(x,y)$ est l'image originale.\n",
        "* $h(i,j)$ est le filtre (matrice de convolution).\n",
        "* $g(x,y)$ est l'image transformée.\n",
        "\n",
        "Types de filtres :\n",
        "\n",
        "* **Floutage (Gaussian Blur)** : Réduction du bruit et lissage.\n",
        "* **Détection de contours (Sobel, Prewitt, Laplacien)** : Extraction des contours.\n",
        "* **Rehaussement (Sharpening)** : Accentuation des détails.\n",
        "* **Filtrage passe-haut / passe-bas** : Sélection des hautes ou basses fréquences.\n",
        "\n",
        "Fourier et filtres :\n",
        "\n",
        "En domaine fréquentiel, le filtrage peut être vu comme une multiplication entre le spectre de Fourier de l’image et la transformée du filtre."
      ],
      "metadata": {
        "id": "xYZX_gmQhVkd"
      }
    },
    {
      "cell_type": "markdown",
      "source": [
        "##  Filtres de lissage (réduction du bruit et flou)"
      ],
      "metadata": {
        "id": "SaJORy0znJk1"
      }
    },
    {
      "cell_type": "markdown",
      "source": [
        "Moyenneur (Mean Filter)\n",
        "\n",
        "💡 **Principe :** Chaque pixel est remplacé par la moyenne des pixels voisins.\n",
        "\n",
        "**Matrice de convolution (exemple pour un noyau 3×3) :**\n",
        "\n",
        "$$h = \\frac{1}{9} \\begin{bmatrix} 1 & 1 & 1 \\\\ 1 & 1 & 1 \\\\ 1 & 1 & 1 \\end{bmatrix}$$\n",
        "\n",
        "**Interprétation mathématique (convolution 2D) :**\n",
        "\n",
        "$$g(x,y) = \\frac{1}{9} \\sum_{i=-1}^{1} \\sum_{j=-1}^{1} f(x-i,y-j)$$"
      ],
      "metadata": {
        "id": "WaYkOanWiV8R"
      }
    },
    {
      "cell_type": "code",
      "source": [
        "image_url = '/content/avatars-000208242028-o7xw0o-t1080x1080 (1).jpg'\n",
        "image = cv2.imread(image_url)\n",
        "\n",
        "if image is None :\n",
        "  print(\"Erreur : impossible de charger l'image\")\n",
        "else :\n",
        "  print(\"Image chargée avec succès\")\n",
        "\n",
        "kernel_size = 5 # La taille de matrice de covolution (5*5)\n",
        "image_mean_filter = cv2.blur(image, (kernel_size, kernel_size))\n",
        "\n",
        "fig, axs = plt.subplots(1, 2, figsize=(12, 6))\n",
        "axs[0].imshow(cv2.cvtColor(image, cv2.COLOR_BGR2RGB))\n",
        "axs[0].set_title('Image originale')\n",
        "axs[0].axis('off')\n",
        "\n",
        "axs[1].imshow(cv2.cvtColor(image_mean_filter, cv2.COLOR_BGR2RGB))\n",
        "axs[1].set_title('Image après le filtre')\n",
        "axs[1].axis('off')\n",
        "\n",
        "plt.show()\n",
        "# Si on augment la taille de kernel , la quelité de l'image diminue , car on perte plu d'information !!\n",
        "# @title Mean filtre"
      ],
      "metadata": {
        "id": "zcjnmauveVSN"
      },
      "execution_count": null,
      "outputs": []
    },
    {
      "cell_type": "markdown",
      "source": [
        "Filtre Gaussien (Gaussian Blur)\n",
        "\n",
        "💡 **Idée :** Applique une moyenne pondérée par une gaussienne pour obtenir un flou plus naturel.\n",
        "\n",
        "$$h(x,y) = \\frac{1}{2\\pi\\sigma^2} e^{-\\frac{x^2 + y^2}{2\\sigma^2}}$$\n",
        "\n",
        "📌 **Matrice de convolution (exemple 3×3) :**\n",
        "\n",
        "$$h = \\frac{1}{16} \\begin{bmatrix} 1 & 2 & 1 \\\\ 2 & 4 & 2 \\\\ 1 & 2 & 1 \\end{bmatrix}$$\n",
        "\n",
        "**Pourquoi cette matrice de convolution ?**\n",
        "\n",
        "On ne peut pas appliquer directement une fonction continue sur une image discrète (faite de pixels). Donc, on approxime la fonction en la calculant pour chaque position dans un petit voisinage, par exemple un noyau 3×3.\n",
        "\n",
        "Si on prend  $\\sigma = 1$, alors pour un noyau de taille 3×3, on applique la formule aux coordonnées :\n",
        "\n",
        "| (x,y) |  $e^{-(x^2 + y^2)/2}$ | Valeur Approx. |\n",
        "|---|---|---|\n",
        "| (-1,-1) | $e^{-1}$ | 0.3679 |\n",
        "| (-1,0) | $e^{-0.5}$ | 0.6065 |\n",
        "| (-1,1) | $e^{-1}$ | 0.3679 |\n",
        "| (0,-1) | $e^{-0.5}$ | 0.6065 |\n",
        "| (0,0) | $e^{0}$ | 1.0000 |\n",
        "| (0,1) | $e^{-0.5}$ | 0.6065 |\n",
        "| (1,-1) | $e^{-1}$ | 0.3679 |\n",
        "| (1,0) | $e^{-0.5}$ | 0.6065 |\n",
        "| (1,1) | $e^{-1}$ | 0.3679 |\n",
        "\n",
        "On normalise ces valeurs pour que la somme des coefficients soit 1, et on obtient :\n",
        "\n",
        "$$h = \\frac{1}{16} \\begin{bmatrix} 1 & 2 & 1 \\\\ 2 & 4 & 2 \\\\ 1 & 2 & 1 \\end{bmatrix}$$"
      ],
      "metadata": {
        "id": "AZGHPsHpnu9e"
      }
    },
    {
      "cell_type": "code",
      "source": [
        "# Charger l'image\n",
        "image = cv2.imread(\"/content/avatars-000208242028-o7xw0o-t1080x1080 (1).jpg\")\n",
        "image = cv2.cvtColor(image, cv2.COLOR_BGR2RGB)  # Pour Matplotlib\n",
        "\n",
        "# Définition des sigmas\n",
        "sigma_values = [1, 20, 100] # C'est l'ecart type qui agire sur la disperssion de filtre autour du centre (0,0)\n",
        "\n",
        "# Appliquer le filtre Gaussien pour chaque sigma\n",
        "kernel = 31\n",
        "gaussian_blurs = [cv2.GaussianBlur(image, (kernel, kernel), sigmaX=sigma) for sigma in sigma_values]\n",
        "\n",
        "# Affichage des images\n",
        "plt.figure(figsize=(12, 6))\n",
        "\n",
        "# Image originale\n",
        "plt.subplot(1, 4, 1)\n",
        "plt.imshow(image)\n",
        "plt.title(\"Image Originale\")\n",
        "plt.axis(\"off\")\n",
        "\n",
        "# Images floutées avec différents sigma\n",
        "for i, (sigma, img) in enumerate(zip(sigma_values, gaussian_blurs), start=2):\n",
        "    plt.subplot(1, 4, i)\n",
        "    plt.imshow(img)\n",
        "    plt.title(f\"Filtre Gaussien\\nσ = {sigma}\")\n",
        "    plt.axis(\"off\")\n",
        "\n",
        "plt.tight_layout()\n",
        "plt.show()\n",
        "# @title Filtre Gaussien"
      ],
      "metadata": {
        "id": "EIT3SS-6nZxh"
      },
      "execution_count": null,
      "outputs": []
    },
    {
      "cell_type": "markdown",
      "source": [
        "## Filtres de détection de contours"
      ],
      "metadata": {
        "id": "7_dxcettq6GW"
      }
    },
    {
      "cell_type": "markdown",
      "source": [
        "Filtre Sobel\n",
        "\n",
        "**Principe :** Approxime le gradient de l’image pour détecter les contours horizontaux et verticaux.\n",
        "\n",
        "**Matrice de convolution :**\n",
        "\n",
        "**Filtre Sobel horizontal :**\n",
        "$$h_x = \\begin{bmatrix} -1 & 0 & 1 \\\\ -2 & 0 & 2 \\\\ -1 & 0 & 1 \\end{bmatrix}$$\n",
        "\n",
        "**Filtre Sobel vertical :**\n",
        "$$h_y = \\begin{bmatrix} -1 & -2 & -1 \\\\ 0 & 0 & 0 \\\\ 1 & 2 & 1 \\end{bmatrix}$$\n",
        "\n",
        "**Interprétation mathématique :**\n",
        "\n",
        "On calcule le gradient :\n",
        "\n",
        "$$G_x = f * h_x, \\quad G_y = f * h_y$$\n",
        "\n",
        "Puis l’intensité du gradient :\n",
        "\n",
        "$$G = \\sqrt{G_x^2 + G_y^2}$$\n",
        "\n",
        "On peut remarquer que dans le filtre de soel horizontal ( resp vertical ) les valeurs dans la matrice de convolution s'annule verticalement 2 et -2 ... ( resp horizontalement ) , sela permet de garder que les informations horizontal ( vertical )\n",
        "\n",
        "On peut ajuster sur c'est valeur , l'essentiel qu'on doit respecter le faite de mettre une valeur avec son opposé !!"
      ],
      "metadata": {
        "id": "uAlU3erXrJ5z"
      }
    },
    {
      "cell_type": "code",
      "source": [
        "# Charger l'image\n",
        "image = cv2.imread('/content/avatars-000208242028-o7xw0o-t1080x1080 (1).jpg')\n",
        "\n",
        "if image is None:\n",
        "    print(\"Erreur : impossible de charger l'image\")\n",
        "else:\n",
        "    print(\"Image chargée avec succès\")\n",
        "\n",
        "# Convertir l'image en niveaux de gris pour bien marquer l'effet de filtre\n",
        "gray = cv2.cvtColor(image, cv2.COLOR_BGR2GRAY)\n",
        "\n",
        "# Appliquer le filtre de Sobel en X et Y\n",
        "sobel_x = cv2.Sobel(gray, cv2.CV_64F, 1, 0, ksize=3) # 1 en x et 0 en y\n",
        "sobel_y = cv2.Sobel(gray, cv2.CV_64F, 0, 1, ksize=3)\n",
        "\n",
        "# Calculer le gradient total\n",
        "sobel_total = cv2.magnitude(sobel_x, sobel_y)\n",
        "\n",
        "# Afficher les résultats\n",
        "fig, axs = plt.subplots(1, 4, figsize=(16, 8))\n",
        "\n",
        "axs[0].imshow(cv2.cvtColor(image, cv2.COLOR_BGR2RGB))\n",
        "axs[0].set_title('Image originale')\n",
        "axs[0].axis('off')\n",
        "\n",
        "axs[1].imshow(sobel_total, cmap='gray')\n",
        "axs[1].set_title('Sobel_total')\n",
        "axs[1].axis('off')\n",
        "\n",
        "axs[2].imshow(sobel_x, cmap='gray')\n",
        "axs[2].set_title('Filtre Sobel X')\n",
        "axs[2].axis('off')\n",
        "\n",
        "axs[3].imshow(sobel_y, cmap='gray')\n",
        "axs[3].set_title('Filtre Sobel Y')\n",
        "axs[3].axis('off')\n",
        "\n",
        "plt.show()\n",
        "# @title filtres de Sobel"
      ],
      "metadata": {
        "id": "bTGU7d43jM1Z"
      },
      "execution_count": null,
      "outputs": []
    },
    {
      "cell_type": "markdown",
      "source": [
        "filtre Laplacien\n",
        "\n",
        "**Principe :** Détecte les contours en calculant la dérivée seconde.\n",
        "\n",
        "**Matrice de convolution (noyau Laplacien 3×3) :**\n",
        "\n",
        "$$h = \\begin{bmatrix} 0 & -1 & 0 \\\\ -1 & 4 & -1 \\\\ 0 & -1 & 0 \\end{bmatrix}$$\n",
        "\n",
        "**Interprétation mathématique :**\n",
        "\n",
        "Le Laplacien est défini comme :\n",
        "\n",
        "$$\\nabla^2 f = \\frac{\\partial^2 f}{\\partial x^2} + \\frac{\\partial^2 f}{\\partial y^2}$$\n",
        "\n",
        "où $\\nabla^2 f$ représente la variation de l'intensité."
      ],
      "metadata": {
        "id": "fmaxEpSXsl0G"
      }
    },
    {
      "cell_type": "code",
      "source": [
        "# @title Filtre Laplacien\n",
        "image = cv2.imread(\"/content/avatars-000208242028-o7xw0o-t1080x1080 (1).jpg\")\n",
        "\n",
        "gray = cv2.cvtColor(image, cv2.COLOR_BGR2GRAY) # On cover vers le gris pur bien marquer le filtre\n",
        "\n",
        "# Appliquer le filtre de Laplace\n",
        "laplacian = cv2.Laplacian(image, cv2.CV_64F)  # Utilisation du filtre laplacien\n",
        "laplacian = np.uint8(np.absolute(laplacian))  # Conversion en valeurs absolues\n",
        "\n",
        "# Affichage des images\n",
        "plt.figure(figsize=(10, 5))\n",
        "\n",
        "plt.subplot(1, 2, 1)\n",
        "plt.imshow(cv2.cvtColor(image, cv2.COLOR_BGR2RGB))\n",
        "plt.title(\"Image Originale\")\n",
        "plt.axis(\"off\")\n",
        "\n",
        "plt.subplot(1, 2, 2)\n",
        "plt.imshow(laplacian, cmap='gray')\n",
        "plt.title(\"Filtre de Laplace\")\n",
        "plt.axis(\"off\")\n",
        "\n",
        "plt.tight_layout()\n",
        "plt.show()"
      ],
      "metadata": {
        "id": "S8eSzqZSrmFk"
      },
      "execution_count": null,
      "outputs": []
    },
    {
      "cell_type": "markdown",
      "source": [
        "## Filtres passe-bas et passe-haut (Analyse fréquentielle)"
      ],
      "metadata": {
        "id": "xNHPuWzStvr3"
      }
    },
    {
      "cell_type": "markdown",
      "source": [
        "Filtre passe-bas\n",
        "\n",
        "💡 **Principe :** Garde les basses fréquences et élimine les hautes fréquences pour réduire le bruit.\n",
        "\n",
        "📌 **Interprétation mathématique :** Multiplication en domaine fréquentiel :\n",
        "\n",
        "$$G(u,v) = H(u,v) \\cdot F(u,v)$$\n",
        "\n",
        "où $H(u,v)$ est un filtre gaussien dans Fourier.\n",
        "\n",
        "\n",
        "Filtre passe-haut\n",
        "\n",
        "💡 **Principe :** Supprime les basses fréquences et garde les hautes, accentuant les contours.\n",
        "\n",
        "📌 **Interprétation mathématique :**\n",
        "\n",
        "$$H_{hp}(u,v) = 1 - H_{lp}(u,v)$$\n",
        "\n",
        "où $H_{lp}$ est un filtre passe-bas."
      ],
      "metadata": {
        "id": "JskO9gMtt97n"
      }
    },
    {
      "cell_type": "code",
      "source": [
        "# @title Filtre Passe-Bas et Passe-Haut\n",
        "\n",
        "# Charger l'image\n",
        "image = cv2.imread(\"/content/avatars-000208242028-o7xw0o-t1080x1080 (1).jpg\")\n",
        "image = cv2.cvtColor(image, cv2.COLOR_BGR2RGB)\n",
        "\n",
        "# Appliquer un filtre passe-bas (Gaussien)\n",
        "kernel_size = 7\n",
        "passe_bas = cv2.GaussianBlur(image, (kernel_size, kernel_size), sigmaX=2.0)\n",
        "\n",
        "# Appliquer un filtre passe-haut\n",
        "passe_haute = 1 - passe_bas\n",
        "\n",
        "# Affichage des images\n",
        "plt.figure(figsize=(12, 6))\n",
        "\n",
        "plt.subplot(1, 3, 1)\n",
        "plt.imshow(image)\n",
        "plt.title(\"Image Originale\")\n",
        "plt.axis(\"off\")\n",
        "\n",
        "plt.subplot(1, 3, 2)\n",
        "plt.imshow(passe_bas)\n",
        "plt.title(\"Filtre Passe-Bas\")\n",
        "plt.axis(\"off\")\n",
        "\n",
        "plt.subplot(1, 3, 3)\n",
        "plt.imshow(passe_haute)\n",
        "plt.title(\"Filtre Passe-Haut\")\n",
        "plt.axis(\"off\")\n",
        "\n",
        "plt.tight_layout()\n",
        "plt.show()\n"
      ],
      "metadata": {
        "id": "SnFC33DrtxmH"
      },
      "execution_count": null,
      "outputs": []
    },
    {
      "cell_type": "markdown",
      "source": [
        "# Remarque : Gestion des bords\n",
        "\n",
        "Les pixels aux extrémités (bords de l'image) posent un problème lors de la convolution, car ils ont moins de voisins que les pixels centraux. Il existe plusieurs techniques pour gérer ce problème :\n",
        "\n",
        "**Méthodes courantes de gestion des bords :**\n",
        "\n",
        "* **Padding (Zéro-Padding)** : Ajouter des zéros autour de l'image.\n",
        "* **Padding en Miroir (Reflect Padding)** : Réfléchir les valeurs des pixels adjacents.\n",
        "* **Padding Constant** : Ajouter une valeur constante (ex. moyenne des pixels).\n",
        "* **Pas de Padding (Valid Convolution)** : Ne pas calculer les valeurs aux bords, ce qui réduit la taille de l'image.\n"
      ],
      "metadata": {
        "id": "jJ8-9kNg_8o7"
      }
    }
  ]
}